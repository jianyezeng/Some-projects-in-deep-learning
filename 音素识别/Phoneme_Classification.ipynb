{
 "cells": [
  {
   "cell_type": "markdown",
   "id": "b556b182",
   "metadata": {},
   "source": [
    "# 导入所需要的库"
   ]
  },
  {
   "cell_type": "code",
   "execution_count": 1,
   "id": "de0a25f3",
   "metadata": {},
   "outputs": [],
   "source": [
    "import os\n",
    "import torch\n",
    "from torch.utils.data import Dataset,DataLoader\n",
    "import torch.nn as nn \n",
    "\n",
    "import pandas as pd\n",
    "import numpy as np\n",
    "import csv\n",
    "\n",
    "import math\n",
    "\n",
    "from torch.utils.tensorboard import SummaryWriter\n",
    "from tqdm import tqdm"
   ]
  },
  {
   "cell_type": "markdown",
   "id": "e9588c5f",
   "metadata": {},
   "source": [
    "# 参数"
   ]
  },
  {
   "cell_type": "code",
   "execution_count": 2,
   "id": "e773bc6f",
   "metadata": {},
   "outputs": [
    {
     "name": "stdout",
     "output_type": "stream",
     "text": [
      "cuda\n"
     ]
    }
   ],
   "source": [
    "config = {\n",
    "    'data_path':'./timit_11/',\n",
    "    'seed':0,\n",
    "    'batch_size':64,\n",
    "    'learning_rate':0.0001,\n",
    "    'n_epochs':20,\n",
    "    'save_path':'./models/model.ckpt',\n",
    "    'early_stop':5,\n",
    "    'valid_ratio':0.2,\n",
    "}\n",
    "device = 'cuda' if torch.cuda.is_available() else 'cpu'\n",
    "print(device)"
   ]
  },
  {
   "cell_type": "markdown",
   "id": "52a35b4c",
   "metadata": {},
   "source": [
    "一些有用的函数"
   ]
  },
  {
   "cell_type": "code",
   "execution_count": 3,
   "id": "0482eef9",
   "metadata": {},
   "outputs": [],
   "source": [
    "def same_seeds(seed):\n",
    "    torch.manual_seed(seed)\n",
    "    if torch.cuda.is_available():\n",
    "        torch.cuda.manual_seed(seed)\n",
    "        torch.cuda.manual_seed_all(seed)  \n",
    "    np.random.seed(seed)  \n",
    "    torch.backends.cudnn.benchmark = False\n",
    "    torch.backends.cudnn.deterministic = True"
   ]
  },
  {
   "cell_type": "markdown",
   "id": "04e22bf6",
   "metadata": {},
   "source": [
    "# 数据模块\n",
    "## 提取数据"
   ]
  },
  {
   "cell_type": "code",
   "execution_count": 4,
   "id": "fdc2538f",
   "metadata": {},
   "outputs": [
    {
     "name": "stdout",
     "output_type": "stream",
     "text": [
      "the shape of train_audio:(1229932, 429)\n",
      "the shape of train_label:(1229932,)\n",
      "the shape of test_data:(451552, 429)\n"
     ]
    }
   ],
   "source": [
    "train_audio = np.load(config['data_path']+'train_11.npy')\n",
    "train_label = np.load(config['data_path']+'train_label_11.npy')\n",
    "test_data = np.load(config['data_path']+'test_11.npy')\n",
    "print('the shape of train_audio:{}'.format(train_audio.shape))\n",
    "print('the shape of train_label:{}'.format(train_label.shape))\n",
    "print('the shape of test_data:{}'.format(test_data.shape))"
   ]
  },
  {
   "cell_type": "markdown",
   "id": "254e4a02",
   "metadata": {},
   "source": [
    "## 划分训练集与验证集"
   ]
  },
  {
   "cell_type": "code",
   "execution_count": 5,
   "id": "ea7e8c54",
   "metadata": {},
   "outputs": [],
   "source": [
    "def train_valid_set(train_audio,train_label, valid_ratio):\n",
    "    percent = int(train_audio.shape[0]*(1-valid_ratio))\n",
    "    x_train,y_train,x_valid,y_valid = train_audio[:percent],train_label[:percent],train_audio[percent:],train_label[percent:]\n",
    "    return x_train,y_train,x_valid,y_valid"
   ]
  },
  {
   "cell_type": "markdown",
   "id": "a66e62e4",
   "metadata": {},
   "source": [
    "## Dataset"
   ]
  },
  {
   "cell_type": "code",
   "execution_count": 6,
   "id": "e97520c3",
   "metadata": {},
   "outputs": [],
   "source": [
    "class Phoneme_Classification(Dataset):\n",
    "    def __init__(self, X, y=None):\n",
    "        self.data = torch.from_numpy(X).float()\n",
    "        if y is not None:\n",
    "            y = y.astype(int)\n",
    "            self.label = torch.LongTensor(y)\n",
    "        else:\n",
    "            self.label = None\n",
    "\n",
    "    def __getitem__(self, idx):\n",
    "        if self.label is not None:\n",
    "            return self.data[idx], self.label[idx]\n",
    "        else:\n",
    "            return self.data[idx]\n",
    "\n",
    "    def __len__(self):\n",
    "        return len(self.data)"
   ]
  },
  {
   "cell_type": "markdown",
   "id": "f077db35",
   "metadata": {},
   "source": [
    "## 选择特征值（可选）"
   ]
  },
  {
   "cell_type": "markdown",
   "id": "48d1d4d8",
   "metadata": {},
   "source": [
    "## DataLoader"
   ]
  },
  {
   "cell_type": "code",
   "execution_count": 7,
   "id": "be8038ee",
   "metadata": {},
   "outputs": [
    {
     "name": "stdout",
     "output_type": "stream",
     "text": [
      "(983945, 429)\n",
      "(245987, 429)\n",
      "983945\n"
     ]
    }
   ],
   "source": [
    "x_train,y_train,x_valid,y_valid = train_valid_set(train_audio,train_label, config['valid_ratio'])\n",
    "print(x_train.shape)\n",
    "print(x_valid.shape)\n",
    "train_dataset,valid_dataset, test_dataset = Phoneme_Classification(x_train,y_train),Phoneme_Classification(x_valid,y_valid),Phoneme_Classification(test_data)\n",
    "print(len(train_dataset))\n",
    "train_loader = DataLoader(train_dataset,batch_size = config['batch_size'],shuffle = True)\n",
    "valid_loader = DataLoader(valid_dataset,batch_size = config['batch_size'],shuffle = True)\n",
    "test_loader = DataLoader(test_dataset,batch_size = config['batch_size'],shuffle = False)"
   ]
  },
  {
   "cell_type": "code",
   "execution_count": 8,
   "id": "74df88b3",
   "metadata": {},
   "outputs": [
    {
     "data": {
      "text/plain": [
       "23"
      ]
     },
     "execution_count": 8,
     "metadata": {},
     "output_type": "execute_result"
    }
   ],
   "source": [
    "import gc\n",
    "\n",
    "del train_audio, train_label, x_train, y_train, x_valid, y_valid\n",
    "gc.collect()"
   ]
  },
  {
   "cell_type": "markdown",
   "id": "aca4e169",
   "metadata": {},
   "source": [
    "# Neural Network Model"
   ]
  },
  {
   "cell_type": "code",
   "execution_count": 14,
   "id": "c5016685",
   "metadata": {},
   "outputs": [],
   "source": [
    "# class My_Model(nn.Module):\n",
    "#     def __init__(self):\n",
    "#         super(My_Model, self).__init__()\n",
    "#         self.layer1 = nn.Linear(429, 1024)\n",
    "#         self.layer2 = nn.Linear(1024, 512)\n",
    "#         self.layer3 = nn.Linear(512, 128)\n",
    "#         self.out = nn.Linear(128, 39) \n",
    "\n",
    "#         self.act_fn = nn.Sigmoid()\n",
    "\n",
    "#     def forward(self, x):\n",
    "#         x = self.layer1(x)\n",
    "#         x = self.act_fn(x)\n",
    "\n",
    "#         x = self.layer2(x)\n",
    "#         x = self.act_fn(x)\n",
    "\n",
    "#         x = self.layer3(x)\n",
    "#         x = self.act_fn(x)\n",
    "\n",
    "#         x = self.out(x)\n",
    "        \n",
    "#         return x"
   ]
  },
  {
   "cell_type": "markdown",
   "id": "6151aa95",
   "metadata": {},
   "source": [
    "# Train loop"
   ]
  },
  {
   "cell_type": "code",
   "execution_count": 15,
   "id": "ed554850",
   "metadata": {},
   "outputs": [],
   "source": [
    "def trainer(train_loader,valid_loader,model,device,config):\n",
    "    criterion = nn.CrossEntropyLoss()\n",
    "    optimizer = torch.optim.Adam(model.parameters(),lr = config['learning_rate'])\n",
    "    \n",
    "    writer = SummaryWriter()\n",
    "    \n",
    "    if not os.path.isdir('./models'):\n",
    "        os.mkdir('./models')\n",
    "    \n",
    "    n_epochs,best_acc,step,early_stop_count = config['n_epochs'],0,0,0\n",
    "    \n",
    "    for epoch in range(n_epochs):\n",
    "        #print(len(train_dataset))\n",
    "        model.train()\n",
    "        train_acc_record = []\n",
    "        #train_pbar = tqdm(train_loader)\n",
    "        #for x,y in train_pbar:\n",
    "        for x,y in train_loader:\n",
    "            optimizer.zero_grad()\n",
    "            x,y = x.to(device),y.to(device)\n",
    "            pred,hidden_prev = model(x)\n",
    "            loss = criterion(pred,y)\n",
    "            \n",
    "            _, train_pred = torch.max(pred, 1) # get the index of the class with the highest probability\n",
    "            \n",
    "            loss.backward()\n",
    "            optimizer.step()\n",
    "            \n",
    "            step += 1\n",
    "            train_acc = (train_pred.cpu()==y.cpu()).sum().item()\n",
    "            train_acc_record.append(train_acc)\n",
    "            \n",
    "            #train_pbar.set_description(f'Epoch [{epoch+1}/{n_epochs}]')\n",
    "            #train_pbar.set_postfix({'train_acc':train_acc})\n",
    "        mean_train_acc = sum(train_acc_record)/len(train_dataset)\n",
    "        \n",
    "        writer.add_scalar('Loss/train',mean_train_acc,step)\n",
    "        \n",
    "        model.eval()\n",
    "        valid_acc_record = []\n",
    "        with torch.no_grad():\n",
    "            for x,y in valid_loader:\n",
    "                x,y = x.to(device),y.to(device)\n",
    "                pred,hidden_prev = model(x)\n",
    "                loss = criterion(pred,y)\n",
    "                _, valid_pred = torch.max(pred, 1)\n",
    "                \n",
    "                valid_acc = (valid_pred.cpu()==y.cpu()).sum().item()\n",
    "                valid_acc_record.append(valid_acc)\n",
    "        \n",
    "        mean_valid_acc = sum(valid_acc_record)/len(valid_dataset)\n",
    "        writer.add_scalar('Loss/train',mean_valid_acc,step)\n",
    "        \n",
    "        print('[{:03d}/{:03d}] Train Acc: {:3.6f}  | Val Acc: {:3.6f} '.format(epoch + 1, n_epochs, mean_train_acc, mean_valid_acc))\n",
    "        sum_valid_acc = sum(valid_acc_record)\n",
    "        if sum_valid_acc > best_acc:\n",
    "            best_acc = sum_valid_acc\n",
    "            torch.save(model.state_dict(),config['save_path'])\n",
    "            print('saving model with acc {:.4f}'.format(best_acc/len(valid_dataset)))\n",
    "            early_stop_count = 0\n",
    "        else:\n",
    "            early_stop_count += 1\n",
    "        if early_stop_count == config['early_stop']:\n",
    "            print('\\nModel is not improving, so we halt the training session.')\n",
    "            return"
   ]
  },
  {
   "cell_type": "markdown",
   "id": "51f7443d",
   "metadata": {},
   "source": [
    "# Start training！"
   ]
  },
  {
   "cell_type": "code",
   "execution_count": 16,
   "id": "ebbc2831",
   "metadata": {},
   "outputs": [
    {
     "ename": "NameError",
     "evalue": "name 'output_size' is not defined",
     "output_type": "error",
     "traceback": [
      "\u001b[1;31m---------------------------------------------------------------------------\u001b[0m",
      "\u001b[1;31mNameError\u001b[0m                                 Traceback (most recent call last)",
      "Cell \u001b[1;32mIn[16], line 1\u001b[0m\n\u001b[1;32m----> 1\u001b[0m model \u001b[38;5;241m=\u001b[39m \u001b[43mNet\u001b[49m\u001b[43m(\u001b[49m\u001b[43minput_size\u001b[49m\u001b[43m,\u001b[49m\u001b[43mhidden_size\u001b[49m\u001b[43m,\u001b[49m\u001b[43mnum_layers\u001b[49m\u001b[43m)\u001b[49m\u001b[38;5;241m.\u001b[39mto(device)\n\u001b[0;32m      2\u001b[0m trainer(train_loader,valid_loader,model,device,config)\n",
      "Cell \u001b[1;32mIn[14], line 38\u001b[0m, in \u001b[0;36mNet.__init__\u001b[1;34m(self, input_size, hidden_size, num_layers)\u001b[0m\n\u001b[0;32m     36\u001b[0m \u001b[38;5;28;01mfor\u001b[39;00m p \u001b[38;5;129;01min\u001b[39;00m \u001b[38;5;28mself\u001b[39m\u001b[38;5;241m.\u001b[39mrnn\u001b[38;5;241m.\u001b[39mparameters():\n\u001b[0;32m     37\u001b[0m     nn\u001b[38;5;241m.\u001b[39minit\u001b[38;5;241m.\u001b[39mnormal_(p, mean\u001b[38;5;241m=\u001b[39m\u001b[38;5;241m0.0\u001b[39m, std\u001b[38;5;241m=\u001b[39m\u001b[38;5;241m0.001\u001b[39m)\n\u001b[1;32m---> 38\u001b[0m \u001b[38;5;28mself\u001b[39m\u001b[38;5;241m.\u001b[39mlinear \u001b[38;5;241m=\u001b[39m nn\u001b[38;5;241m.\u001b[39mLinear(hidden_size, \u001b[43moutput_size\u001b[49m)\n",
      "\u001b[1;31mNameError\u001b[0m: name 'output_size' is not defined"
     ]
    }
   ],
   "source": [
    "model = Net(input_size,hidden_size,num_layers).to(device)\n",
    "trainer(train_loader,valid_loader,model,device,config)"
   ]
  },
  {
   "cell_type": "markdown",
   "id": "f9587cea",
   "metadata": {},
   "source": [
    "# Plot learning curves with tensorboard"
   ]
  },
  {
   "cell_type": "code",
   "execution_count": null,
   "id": "f6048356",
   "metadata": {},
   "outputs": [],
   "source": [
    "%reload_ext tensorboard\n",
    "%tensorboard --logdir=./runs/"
   ]
  },
  {
   "cell_type": "markdown",
   "id": "608575e2",
   "metadata": {},
   "source": [
    "# predict"
   ]
  },
  {
   "cell_type": "code",
   "execution_count": null,
   "id": "a12fc081",
   "metadata": {},
   "outputs": [],
   "source": [
    "def save_pred(preds,file):\n",
    "    with open(file,'w') as fp:\n",
    "        writer = csv.writer(fp)\n",
    "        writer.writerow(['id','class'])\n",
    "        for i,p in enumerate(preds):\n",
    "            writer.writerow([i,p])"
   ]
  },
  {
   "cell_type": "code",
   "execution_count": null,
   "id": "ec92338c",
   "metadata": {},
   "outputs": [],
   "source": [
    "def predict(test_loader,model,device):\n",
    "    model.eval()\n",
    "    preds = []\n",
    "    for x in tqdm(test_loader):\n",
    "        x = x.to(device)\n",
    "        with torch.no_grad():\n",
    "            pred,hidden_prev = model(x)\n",
    "            _, test_pred = torch.max(pred, 1)\n",
    "            for y in test_pred.cpu().numpy():\n",
    "                preds.append(y)\n",
    "    return preds"
   ]
  },
  {
   "cell_type": "code",
   "execution_count": null,
   "id": "9c5a30b1",
   "metadata": {},
   "outputs": [],
   "source": [
    "model = My_Model().to(device)\n",
    "model.load_state_dict(torch.load(config['save_path']))\n",
    "preds = predict(test_loader,model,device)\n",
    "save_pred(preds,'pred.csv')"
   ]
  },
  {
   "cell_type": "code",
   "execution_count": null,
   "id": "6ec02c8d",
   "metadata": {},
   "outputs": [],
   "source": []
  }
 ],
 "metadata": {
  "kernelspec": {
   "display_name": "Python 3 (ipykernel)",
   "language": "python",
   "name": "python3"
  },
  "language_info": {
   "codemirror_mode": {
    "name": "ipython",
    "version": 3
   },
   "file_extension": ".py",
   "mimetype": "text/x-python",
   "name": "python",
   "nbconvert_exporter": "python",
   "pygments_lexer": "ipython3",
   "version": "3.10.1"
  }
 },
 "nbformat": 4,
 "nbformat_minor": 5
}
